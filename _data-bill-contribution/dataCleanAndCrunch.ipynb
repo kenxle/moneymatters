{
 "cells": [
  {
   "cell_type": "code",
   "execution_count": 32,
   "metadata": {},
   "outputs": [
    {
     "name": "stdout",
     "output_type": "stream",
     "text": [
      "Represents  State  District  Interest Group Position  Bill Number  Vote      \n",
      "AK 0        AK     0         Oppose                   H.R. 10      Yes              8150.0\n",
      "                             Support                  H.R. 10      Yes             22800.0\n",
      "AL 1        AL     1         Oppose                   H.R. 10      Yes             10550.0\n",
      "                             Split                    H.R. 10      Yes              2000.0\n",
      "                             Support                  H.R. 10      Yes            118007.0\n",
      "AL 2        AL     2         Oppose                   H.R. 10      Yes             25750.0\n",
      "                             Split                    H.R. 10      Yes              2250.0\n",
      "                             Support                  H.R. 10      Yes             65200.0\n",
      "AL 3        AL     3         Oppose                   H.R. 10      Yes             11500.0\n",
      "                             Support                  H.R. 10      Yes             64700.0\n",
      "AL 4        AL     4         Oppose                   H.R. 10      Yes             26750.0\n",
      "                             Support                  H.R. 10      Yes             69980.0\n",
      "AL 5        AL     5         Oppose                   H.R. 10      Yes              3500.0\n",
      "                             Support                  H.R. 10      Yes             22000.0\n",
      "AL 6        AL     6         Oppose                   H.R. 10      Yes             13800.0\n",
      "                             Support                  H.R. 10      Yes             99347.0\n",
      "AL 7        AL     7         Oppose                   H.R. 10      No              54415.0\n",
      "                             Split                    H.R. 10      No               4500.0\n",
      "                             Support                  H.R. 10      No             286895.0\n",
      "AR 1        AR     1         Oppose                   H.R. 10      Yes              5800.0\n",
      "                             Support                  H.R. 10      Yes             20500.0\n",
      "AR 2        AR     2         Oppose                   H.R. 10      Yes             21400.0\n",
      "                             Split                    H.R. 10      Yes              4000.0\n",
      "                             Support                  H.R. 10      Yes            393825.0\n",
      "AR 3        AR     3         Oppose                   H.R. 10      Yes             23800.0\n",
      "                             Split                    H.R. 10      Yes             16500.0\n",
      "                             Support                  H.R. 10      Yes             65640.0\n",
      "AR 4        AR     4         Oppose                   H.R. 10      Yes              6000.0\n",
      "                             Split                    H.R. 10      Yes               250.0\n",
      "                             Support                  H.R. 10      Yes             41602.0\n",
      "                                                                                   ...    \n",
      "WA 9        WA     9         Support                  H.R. 10      No              10950.0\n",
      "WI 1        WI     1         Oppose                   H.R. 10      Not Voting     234035.0\n",
      "                             Split                    H.R. 10      Not Voting      26309.0\n",
      "                             Support                  H.R. 10      Not Voting    1902895.0\n",
      "WI 2        WI     2         Oppose                   H.R. 10      No              80668.0\n",
      "                             Support                  H.R. 10      No              93605.0\n",
      "WI 3        WI     3         Oppose                   H.R. 10      No              69049.0\n",
      "                             Split                    H.R. 10      No               9500.0\n",
      "                             Support                  H.R. 10      No             246100.0\n",
      "WI 4        WI     4         Oppose                   H.R. 10      No              31700.0\n",
      "                             Support                  H.R. 10      No             240000.0\n",
      "WI 5        WI     5         Oppose                   H.R. 10      Yes              1000.0\n",
      "                             Support                  H.R. 10      Yes             34100.0\n",
      "WI 6        WI     6         Oppose                   H.R. 10      Yes              4100.0\n",
      "                             Support                  H.R. 10      Yes             59782.0\n",
      "WI 7        WI     7         Oppose                   H.R. 10      Yes             17550.0\n",
      "                             Split                    H.R. 10      Yes              3500.0\n",
      "                             Support                  H.R. 10      Yes            438806.0\n",
      "WI 8        WI     8         Oppose                   H.R. 10      Yes              7000.0\n",
      "                             Split                    H.R. 10      Yes              1050.0\n",
      "                             Support                  H.R. 10      Yes            212144.0\n",
      "WV 1        WV     1         Oppose                   H.R. 10      Yes             14500.0\n",
      "                             Support                  H.R. 10      Yes             42500.0\n",
      "WV 2        WV     2         Oppose                   H.R. 10      Yes             10700.0\n",
      "                             Split                    H.R. 10      Yes               675.0\n",
      "                             Support                  H.R. 10      Yes            156048.0\n",
      "WV 3        WV     3         Oppose                   H.R. 10      Yes              3500.0\n",
      "                             Support                  H.R. 10      Yes             79650.0\n",
      "WY 0        WY     0         Oppose                   H.R. 10      Yes             17000.0\n",
      "                             Support                  H.R. 10      Yes             87728.0\n",
      "Name: Contribution Amount, Length: 1126, dtype: float64\n"
     ]
    }
   ],
   "source": [
    "import numpy as np\n",
    "import pandas as pd\n",
    "import csv\n",
    "\n",
    "\n",
    "df = pd.read_csv('financial-choice-act-contributions.csv')\n",
    "\n",
    "df['Contribution Amount'] = df['Contribution Amount'].str.replace(',', '')\n",
    "df['Contribution Amount'] = df['Contribution Amount'].str.replace('$', '')\n",
    "df['Contribution Amount'] = df['Contribution Amount'].str.replace(')', '')\n",
    "df['Contribution Amount'] = df['Contribution Amount'].str.replace('(', '-').astype(float)\n",
    "# df['Contribution Amount'].cast(\"double\")\n",
    "\n",
    "# print(df.head(30))\n",
    "df['Represents'] = df['Represents'].str.replace(' House district', '')\n",
    "df['State'] = df['Represents'].str[:2]\n",
    "df['District'] = df['Represents'].str[3:]\n",
    "\n",
    "districts = np.unique(df['Represents'])\n",
    "\n",
    "sums = df.groupby(['Represents','State', 'District', 'Interest Group Position', 'Bill Number', 'Vote'])['Contribution Amount'].sum()\n",
    "# sums['Represents']#.str[:9]\n",
    "# sums = df.groupby(['Represents']).groupby(['Interest Group Position'])['Contribution Amount'].sum()\n",
    "sums.columns = ['district', 'position', 'bill_number', 'vote', 'total_contributions']\n",
    "print(sums)\n",
    "sums.to_csv('extractedContributions.csv', sep=',')"
   ]
  },
  {
   "cell_type": "code",
   "execution_count": null,
   "metadata": {
    "collapsed": true
   },
   "outputs": [],
   "source": []
  },
  {
   "cell_type": "code",
   "execution_count": null,
   "metadata": {
    "collapsed": true
   },
   "outputs": [],
   "source": []
  }
 ],
 "metadata": {
  "kernelspec": {
   "display_name": "Python 3",
   "language": "python",
   "name": "python3"
  },
  "language_info": {
   "codemirror_mode": {
    "name": "ipython",
    "version": 3
   },
   "file_extension": ".py",
   "mimetype": "text/x-python",
   "name": "python",
   "nbconvert_exporter": "python",
   "pygments_lexer": "ipython3",
   "version": "3.6.3"
  }
 },
 "nbformat": 4,
 "nbformat_minor": 2
}
